{
 "cells": [
  {
   "cell_type": "markdown",
   "metadata": {},
   "source": [
    "### Here I am trying to convert videos into wav file from a folder and then trying to find out if there are any audio fakes. I then create spectrogram and compare the difference in np array between fake audio and its originals."
   ]
  },
  {
   "cell_type": "code",
   "execution_count": null,
   "metadata": {
    "_cell_guid": "b1076dfc-b9ad-4769-8c92-a6c4dae69d19",
    "_uuid": "8f2839f25d086af736a60e9eeb907d3b93b6e0e5"
   },
   "outputs": [],
   "source": [
    "import numpy as np \n",
    "import pandas as pd \n",
    "import subprocess\n",
    "import glob\n",
    "import os\n",
    "from pathlib import Path\n",
    "import shutil\n",
    "from zipfile import ZipFile\n",
    "from scipy import signal\n",
    "from scipy.io import wavfile\n",
    "from skopt import gp_minimize\n",
    "from skopt.space import Real\n",
    "from functools import partial\n",
    "import librosa.display\n",
    "import librosa.filters\n",
    "import matplotlib.pyplot as plt\n",
    "import skimage"
   ]
  },
  {
   "cell_type": "markdown",
   "metadata": {},
   "source": [
    "Using the Static Build of ffmpeg from https://johnvansickle.com/ffmpeg/ because internet is not available. <br>\n",
    "The public data set can be found here:\n",
    "https://www.kaggle.com/rakibilly/ffmpeg-static-build\n"
   ]
  },
  {
   "cell_type": "code",
   "execution_count": null,
   "metadata": {
    "_cell_guid": "79c7e3d0-c299-4dcb-8224-4455121ee9b0",
    "_kg_hide-output": true,
    "_uuid": "d629ff2d2480ee46fbb7e2d37f6b5fab8052498a"
   },
   "outputs": [],
   "source": [
    "! tar xvf ../input/ffmpeg-static-build/ffmpeg-git-amd64-static.tar.xz"
   ]
  },
  {
   "cell_type": "markdown",
   "metadata": {},
   "source": [
    "### Specify output format and create a directory for the output Audio files\n",
    "For 400 mp3 files, the directory is approx 94 MB.<br>\n",
    "For 400 wav files, the directory is approx 673 MB."
   ]
  },
  {
   "cell_type": "code",
   "execution_count": null,
   "metadata": {},
   "outputs": [],
   "source": [
    "DATA_FOLDER = '../input/deepfake-detection-challenge/'\n",
    "TRAIN_SAMPLE_FOLDER = 'train_sample_videos/'\n",
    "TEST_FOLDER = 'test_videos/'\n",
    "DATA_PATH = os.path.join(DATA_FOLDER,TRAIN_SAMPLE_FOLDER)\n",
    "os.makedirs('/kaggle/working/output', exist_ok=True)\n",
    "os.makedirs('/kaggle/working/test_output', exist_ok=True)\n",
    "OUTPUT_PATH = '/kaggle/working/output'\n",
    "TEST_OUTPUT_PATH = '/kaggle/working/test_output/'\n",
    "print(f\"Train samples: {len(os.listdir(os.path.join(DATA_FOLDER, TRAIN_SAMPLE_FOLDER)))}\")\n",
    "print(f\"Test samples: {len(os.listdir(os.path.join(DATA_FOLDER, TEST_FOLDER)))}\")\n",
    "SPLIT='00'"
   ]
  },
  {
   "cell_type": "code",
   "execution_count": null,
   "metadata": {},
   "outputs": [],
   "source": [
    "train_list = list(os.listdir(os.path.join(DATA_FOLDER, TRAIN_SAMPLE_FOLDER)))\n",
    "ext_dict = []\n",
    "for file in train_list:\n",
    "    file_ext = file.split('.')[1]\n",
    "    if (file_ext not in ext_dict):\n",
    "        ext_dict.append(file_ext)\n",
    "print(f\"Extensions: {ext_dict}\")      "
   ]
  },
  {
   "cell_type": "code",
   "execution_count": null,
   "metadata": {},
   "outputs": [],
   "source": [
    "json_file = [file for file in train_list if  file.endswith('json')][0]\n",
    "print(f\"JSON file: {json_file}\")"
   ]
  },
  {
   "cell_type": "code",
   "execution_count": null,
   "metadata": {},
   "outputs": [],
   "source": [
    "def get_meta_from_json(path):\n",
    "    df = pd.read_json(os.path.join(DATA_FOLDER, path, json_file))\n",
    "    df = df.T\n",
    "    return df\n",
    "\n",
    "meta_train_df = get_meta_from_json(TRAIN_SAMPLE_FOLDER)\n",
    "meta_train_df.head(20)"
   ]
  },
  {
   "cell_type": "code",
   "execution_count": null,
   "metadata": {},
   "outputs": [],
   "source": [
    "output_format = 'wav'  # can also use aac, wav, etc\n",
    "\n",
    "output_dir = Path(f\"{output_format}s\")\n",
    "Path(output_dir).mkdir(exist_ok=True, parents=True)\n",
    "fake_name ='aaeflzzhvy'\n",
    "real_name = 'flqgmnetsg'"
   ]
  },
  {
   "cell_type": "code",
   "execution_count": null,
   "metadata": {},
   "outputs": [],
   "source": [
    "meta = (list(meta_train_df.index))"
   ]
  },
  {
   "cell_type": "markdown",
   "metadata": {},
   "source": [
    "### Get the list of videos to extract audio from"
   ]
  },
  {
   "cell_type": "code",
   "execution_count": null,
   "metadata": {},
   "outputs": [],
   "source": [
    "INPUT_PATH = '../input/realfake045/assorted/'\n",
    "WAV_PATH = './wavs/'"
   ]
  },
  {
   "cell_type": "code",
   "execution_count": null,
   "metadata": {},
   "outputs": [],
   "source": [
    "list_of_files = []\n",
    "for file in os.listdir(os.path.join(DATA_FOLDER,TRAIN_SAMPLE_FOLDER)):\n",
    "    filename = os.path.join(DATA_FOLDER,TRAIN_SAMPLE_FOLDER)+file\n",
    "    list_of_files.append(filename)"
   ]
  },
  {
   "cell_type": "code",
   "execution_count": null,
   "metadata": {},
   "outputs": [],
   "source": [
    "list_of_files"
   ]
  },
  {
   "cell_type": "markdown",
   "metadata": {},
   "source": [
    "### Extract the audio from files"
   ]
  },
  {
   "cell_type": "code",
   "execution_count": null,
   "metadata": {},
   "outputs": [],
   "source": [
    "def create_wav(list_of_files):\n",
    "    for file in list_of_files:\n",
    "        command = f\"../working/ffmpeg-git-20191209-amd64-static/ffmpeg -i {file} -ab 192000 -ac 2 -ar 44100 -vn {output_dir/file[-14:-4]}.{output_format}\"\n",
    "        subprocess.call(command, shell=True)"
   ]
  },
  {
   "cell_type": "code",
   "execution_count": null,
   "metadata": {},
   "outputs": [],
   "source": [
    "%%time\n",
    "create_wav(list_of_files)"
   ]
  },
  {
   "cell_type": "code",
   "execution_count": null,
   "metadata": {
    "_kg_hide-input": true
   },
   "outputs": [],
   "source": [
    "def create_spectogram(name,sr):\n",
    "    audio_array, sample_rate = librosa.load(WAV_PATH+f'{name}', sr=sr)\n",
    "    trim_audio_array, index = librosa.effects.trim(audio_array)\n",
    "    S = librosa.feature.melspectrogram(y=trim_audio_array, sr=sr, n_mels=128, fmax=8000)\n",
    "    S_dB = np.log(S + 1e-9)\n",
    "    # min-max scale to fit inside 8-bit range\n",
    "    img = scale_minmax(S_dB, 0, 255).astype(np.uint8)\n",
    "    img = np.flip(img, axis=0) # put low frequencies at the bottom in image\n",
    "    img = 255-img # invert. make black==more energy\n",
    "    #S_dB = librosa.power_to_db(S, ref=np.max)\n",
    "    return S_dB ,img\n",
    "\n",
    "def scale_minmax(X, min=0.0, max=1.0):\n",
    "    X_std = (X - X.min()) / (X.max() - X.min())\n",
    "    X_scaled = X_std * (max - min) + min\n",
    "    return X_scaled"
   ]
  },
  {
   "cell_type": "code",
   "execution_count": null,
   "metadata": {},
   "outputs": [],
   "source": [
    "%%time\n",
    "i=0\n",
    "sr=20000\n",
    "for index,row in meta_train_df.iterrows():\n",
    "    if row.label == 'FAKE':\n",
    "        if os.path.exists(os.path.join(DATA_FOLDER, TRAIN_SAMPLE_FOLDER,row.original)):\n",
    "              if os.path.exists(os.path.join(DATA_FOLDER, TRAIN_SAMPLE_FOLDER,index)):\n",
    "                    fake_name = index.split('.')[0]+'.wav'\n",
    "                    real_name =row.original.split('.')[0]+'.wav'\n",
    "                    S_fake,img_fake =create_spectogram(fake_name,sr)\n",
    "                    S_real,img_real =create_spectogram(real_name,sr)\n",
    "                    if not(np.array_equal(S_fake,S_real)):\n",
    "                        diff = np.sum(np.abs(S_real - S_fake))\n",
    "                        print(f\"There is a difference in Audio : {diff}\")\n",
    "                        plt.figure(figsize=(10, 4))\n",
    "                        plt.axis('off')\n",
    "                        #librosa.display.specshow(S_fake, x_axis='time',\n",
    "                        #          y_axis='mel', sr=sr,\n",
    "                        #          fmax=8000)\n",
    "                        plt.imshow(img_fake,cmap='gray')\n",
    "                        plt.colorbar(format='%+2.0f dB')\n",
    "                        plt.title(f'Mel-frequency spectrogram Fake name {fake_name}')\n",
    "                        plt.tight_layout()\n",
    "                        plt.show()\n",
    "                        plt.figure(figsize=(10, 4))\n",
    "                        plt.axis('off')\n",
    "                        #librosa.display.specshow(S_real, x_axis='time',\n",
    "                        #          y_axis='mel', sr=sr,\n",
    "                        #          fmax=8000)\n",
    "                        plt.imshow(img_real,cmap='gray')\n",
    "                        plt.colorbar(format='%+2.0f dB')\n",
    "                        plt.title(f'Mel-frequency spectrogram Real name {real_name}')\n",
    "                        plt.tight_layout()\n",
    "                        plt.show()\n",
    "            \n",
    "    i=i+1 "
   ]
  }
 ],
 "metadata": {
  "kernelspec": {
   "display_name": "Python 3 (ipykernel)",
   "language": "python",
   "name": "python3"
  },
  "language_info": {
   "codemirror_mode": {
    "name": "ipython",
    "version": 3
   },
   "file_extension": ".py",
   "mimetype": "text/x-python",
   "name": "python",
   "nbconvert_exporter": "python",
   "pygments_lexer": "ipython3",
   "version": "3.11.10"
  }
 },
 "nbformat": 4,
 "nbformat_minor": 4
}
